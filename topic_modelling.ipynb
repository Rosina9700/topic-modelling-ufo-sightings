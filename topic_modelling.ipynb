{
 "cells": [
  {
   "cell_type": "code",
   "execution_count": 1,
   "metadata": {
    "collapsed": true
   },
   "outputs": [],
   "source": [
    "import pandas as pd\n",
    "import matplotlib.pyplot as plt\n",
    "import numpy as np\n",
    "from nltk.corpus import stopwords\n",
    "from nltk.tokenize import RegexpTokenizer\n",
    "from nltk.stem.porter import PorterStemmer\n",
    "from sklearn.feature_extraction.text import TfidfVectorizer\n",
    "from sklearn.decomposition import NMF\n",
    "%matplotlib inline"
   ]
  },
  {
   "cell_type": "markdown",
   "metadata": {},
   "source": [
    "# read in preprocessed data\n",
    "json file has been processed using the data_extraction.py script to create the .csv file"
   ]
  },
  {
   "cell_type": "code",
   "execution_count": 2,
   "metadata": {
    "collapsed": true
   },
   "outputs": [],
   "source": [
    "df = pd.read_csv('data/ufodata_complete.csv', encoding='utf-8')"
   ]
  },
  {
   "cell_type": "markdown",
   "metadata": {},
   "source": [
    "# Clean data"
   ]
  },
  {
   "cell_type": "code",
   "execution_count": 3,
   "metadata": {
    "collapsed": true
   },
   "outputs": [],
   "source": [
    "df['city'] = df['city'].str.replace(',','')"
   ]
  },
  {
   "cell_type": "code",
   "execution_count": 4,
   "metadata": {
    "collapsed": true
   },
   "outputs": [],
   "source": [
    "df['state'] = df['state'].str.lower()\n",
    "states = ['wa', 'wi', 'wv', 'fl', 'wy', 'nh', 'nj', 'nm', 'na', 'nc', 'nd', 'ne', 'ny', 'ri', 'nv', 'gu', 'co', 'ca', 'ga', 'ct', 'ok', 'oh', 'ks', 'sc', 'ky', 'or', 'sd', 'de', 'dc', 'hi', 'pr', 'tx', 'la', 'tn', 'pa', 'va', 'vi', 'ak', 'al', 'as', 'ar', 'vt', 'il', 'in', 'ia', 'az', 'id', 'me', 'md', 'ma', 'ut', 'mo', 'mn', 'mi', 'mt', 'mp', 'ms']\n",
    "df['state'] = df['state'].apply(lambda x: x if x in states else None)\n",
    "df['occurred'] = pd.to_datetime(df['occurred'], errors='coerce')"
   ]
  },
  {
   "cell_type": "markdown",
   "metadata": {},
   "source": [
    "- City looks clean, comma removed\n",
    "- State cleaned up\n",
    "- Shapes cleaned up\n"
   ]
  },
  {
   "cell_type": "code",
   "execution_count": 9,
   "metadata": {},
   "outputs": [
    {
     "name": "stdout",
     "output_type": "stream",
     "text": [
      "<class 'pandas.core.frame.DataFrame'>\n",
      "RangeIndex: 136494 entries, 0 to 136493\n",
      "Data columns (total 7 columns):\n",
      "Unnamed: 0    136494 non-null int64\n",
      "occurred      134505 non-null datetime64[ns]\n",
      "city          136419 non-null object\n",
      "state         119862 non-null object\n",
      "shape         131747 non-null object\n",
      "duration      130597 non-null object\n",
      "desc          136492 non-null object\n",
      "dtypes: datetime64[ns](1), int64(1), object(5)\n",
      "memory usage: 7.3+ MB\n"
     ]
    }
   ],
   "source": [
    "df.info()"
   ]
  },
  {
   "cell_type": "code",
   "execution_count": 10,
   "metadata": {
    "collapsed": true
   },
   "outputs": [],
   "source": [
    "shapes = df['shape'].unique()[:19]\n",
    "df['shape'] = df['shape'].apply(lambda x: x if x in shapes else 'Unknown')"
   ]
  },
  {
   "cell_type": "code",
   "execution_count": 11,
   "metadata": {},
   "outputs": [
    {
     "data": {
      "text/plain": [
       "Light        27703\n",
       "Unknown      18462\n",
       "Circle       14556\n",
       "Triangle     12567\n",
       "Fireball     10955\n",
       "Other         9154\n",
       "Sphere        9030\n",
       "Disk          7919\n",
       "Oval          5912\n",
       "Formation     4316\n",
       "Changing      3263\n",
       "Flash         2439\n",
       "Rectangle     2266\n",
       "Cylinder      2040\n",
       "Diamond       1973\n",
       "Chevron       1577\n",
       "Teardrop      1203\n",
       "Egg           1159\n",
       "Name: shape, dtype: int64"
      ]
     },
     "execution_count": 11,
     "metadata": {},
     "output_type": "execute_result"
    }
   ],
   "source": [
    "df['shape'].value_counts()"
   ]
  },
  {
   "cell_type": "code",
   "execution_count": 12,
   "metadata": {
    "collapsed": true
   },
   "outputs": [],
   "source": [
    "df['shape'] = df['shape'].astype('str')\n",
    "df['state'] = df['state'].astype('str')\n",
    "shape_count = pd.DataFrame(df.groupby('shape')['Unnamed: 0'].count())"
   ]
  },
  {
   "cell_type": "code",
   "execution_count": 13,
   "metadata": {},
   "outputs": [
    {
     "data": {
      "text/plain": [
       "<matplotlib.axes._subplots.AxesSubplot at 0x7f1995b22c90>"
      ]
     },
     "execution_count": 13,
     "metadata": {},
     "output_type": "execute_result"
    },
    {
     "data": {
      "image/png": "[encoded data removed]",
      "text/plain": [
       "<matplotlib.figure.Figure at 0x7f1995b22350>"
      ]
     },
     "metadata": {},
     "output_type": "display_data"
    }
   ],
   "source": [
    "shape_count.plot(kind='bar')"
   ]
  },
  {
   "cell_type": "code",
   "execution_count": 14,
   "metadata": {
    "collapsed": true
   },
   "outputs": [],
   "source": [
    "def convert_to_string(x):\n",
    "    try:\n",
    "        return x.encode('utf-8', 'ignore').decode('ascii')\n",
    "    except:\n",
    "        return ''"
   ]
  },
  {
   "cell_type": "code",
   "execution_count": 15,
   "metadata": {
    "collapsed": true
   },
   "outputs": [],
   "source": [
    "df['desc'] = df['desc'].apply(lambda x: convert_to_string(x))"
   ]
  },
  {
   "cell_type": "code",
   "execution_count": 16,
   "metadata": {
    "collapsed": true
   },
   "outputs": [],
   "source": [
    "description = df['desc'].values"
   ]
  },
  {
   "cell_type": "markdown",
   "metadata": {},
   "source": [
    "# Create a tfidf from the description"
   ]
  },
  {
   "cell_type": "code",
   "execution_count": 17,
   "metadata": {
    "collapsed": true
   },
   "outputs": [],
   "source": [
    "def build_text_vectorizer(contents, use_stemmer=False, max_features=None):\n",
    "    '''\n",
    "    Build and return a **callable** for transforming text documents to vectors,\n",
    "    as well as a vocabulary to map document-vector indices to words from the\n",
    "    corpus. The vectorizer will be trained from the text documents in the\n",
    "    `contents` argument. If `use_tfidf` is True, then the vectorizer will use\n",
    "    the Tf-Idf algorithm, otherwise a Bag-of-Words vectorizer will be used.\n",
    "    The text will be tokenized by words, and each word will be stemmed iff\n",
    "    `use_stemmer` is True. If `max_features` is not None, then the vocabulary\n",
    "    will be limited to the `max_features` most common words in the corpus.\n",
    "    '''\n",
    "    Vectorizer = TfidfVectorizer\n",
    "    tokenizer = RegexpTokenizer(r\"[\\w']+\")\n",
    "    stem = PorterStemmer().stem if use_stemmer else (lambda x: x)\n",
    "    stop_set = set(stopwords.words('english'))\n",
    "\n",
    "    # Closure over the tokenizer et al.\n",
    "    def tokenize(text):\n",
    "        tokens = tokenizer.tokenize(text)\n",
    "        stems = [stem(token) for token in tokens if token not in stop_set]\n",
    "        return stems\n",
    "\n",
    "    vectorizer_model = Vectorizer(tokenizer=tokenize, max_features=max_features)\n",
    "    vectorizer_model.fit(contents)\n",
    "    vocabulary = np.array(vectorizer_model.get_feature_names())\n",
    "\n",
    "    # Closure over the vectorizer_model's transform method.\n",
    "    def vectorizer(X):\n",
    "        return vectorizer_model.transform(X).toarray()\n",
    "\n",
    "    return vectorizer, vocabulary"
   ]
  },
  {
   "cell_type": "code",
   "execution_count": 18,
   "metadata": {
    "collapsed": true
   },
   "outputs": [],
   "source": [
    "vect, vocab = build_text_vectorizer(description, use_stemmer=True, max_features=500)\n"
   ]
  },
  {
   "cell_type": "code",
   "execution_count": 19,
   "metadata": {
    "collapsed": true
   },
   "outputs": [],
   "source": [
    "tfidf = vect(description)"
   ]
  },
  {
   "cell_type": "code",
   "execution_count": 20,
   "metadata": {},
   "outputs": [
    {
     "data": {
      "text/plain": [
       "(136494, 500)"
      ]
     },
     "execution_count": 20,
     "metadata": {},
     "output_type": "execute_result"
    }
   ],
   "source": [
    "tfidf.shape"
   ]
  },
  {
   "cell_type": "code",
   "execution_count": 21,
   "metadata": {
    "collapsed": true
   },
   "outputs": [],
   "source": [
    "nmf = NMF(n_components=6, max_iter=100, alpha=0.00001)\n",
    "W = nmf.fit_transform(tfidf)\n",
    "H = nmf.components_"
   ]
  },
  {
   "cell_type": "code",
   "execution_count": 22,
   "metadata": {},
   "outputs": [
    {
     "data": {
      "text/plain": [
       "(136494, 6)"
      ]
     },
     "execution_count": 22,
     "metadata": {},
     "output_type": "execute_result"
    }
   ],
   "source": [
    "W.shape"
   ]
  },
  {
   "cell_type": "code",
   "execution_count": 40,
   "metadata": {
    "collapsed": true
   },
   "outputs": [],
   "source": [
    "def hand_label_topics(H, vocabulary):\n",
    "    '''\n",
    "    Print the most influential words of each latent topic, and prompt the user\n",
    "    to label each topic. The user should use their humanness to figure out what\n",
    "    each latent topic is capturing.\n",
    "    '''\n",
    "    hand_labels = []\n",
    "    for i, row in enumerate(H):\n",
    "        top_five = np.argsort(row)[::-1][:10]\n",
    "        print 'topic', i\n",
    "        print '-->', ' '.join(vocabulary[top_five])\n",
    "        label = raw_input('please label this topic: ')\n",
    "        hand_labels.append(label)\n",
    "        print\n",
    "    return hand_labels\n"
   ]
  },
  {
   "cell_type": "code",
   "execution_count": 41,
   "metadata": {},
   "outputs": [
    {
     "name": "stdout",
     "output_type": "stream",
     "text": [
      "topic 0\n",
      "--> look like see saw back time could go one ufo\n",
      "please label this topic: comparisons\n",
      "\n",
      "topic 1\n",
      "--> provid inform anonym elect pd nuforc contact note remain total\n",
      "please label this topic: anonymous\n",
      "\n",
      "topic 2\n",
      "--> light bright red flash white move sky green blue star\n",
      "please label this topic: colours\n",
      "\n",
      "topic 3\n",
      "--> object move appear shape sky observ speed high travel cloud\n",
      "please label this topic: movement\n",
      "\n",
      "topic 4\n",
      "--> craft shape fli triangl low triangular sound light aircraft hover\n",
      "please label this topic: shape\n",
      "\n",
      "topic 5\n",
      "--> orang orb firebal ball disappear sky move glow east west\n",
      "please label this topic: fire\n",
      "\n"
     ]
    }
   ],
   "source": [
    "hand_labels = hand_label_topics(H, vocab)"
   ]
  },
  {
   "cell_type": "code",
   "execution_count": null,
   "metadata": {
    "collapsed": true
   },
   "outputs": [],
   "source": []
  }
 ],
 "metadata": {
  "kernelspec": {
   "display_name": "Python 2",
   "language": "python",
   "name": "python2"
  },
  "language_info": {
   "codemirror_mode": {
    "name": "ipython",
    "version": 2
   },
   "file_extension": ".py",
   "mimetype": "text/x-python",
   "name": "python",
   "nbconvert_exporter": "python",
   "pygments_lexer": "ipython2",
   "version": "2.7.13"
  }
 },
 "nbformat": 4,
 "nbformat_minor": 2
}
